{
 "cells": [
  {
   "cell_type": "code",
   "execution_count": 17,
   "id": "bf94fda7",
   "metadata": {},
   "outputs": [
    {
     "name": "stdout",
     "output_type": "stream",
     "text": [
      "2025-05-31 19:14:27.718062\n"
     ]
    }
   ],
   "source": [
    "from datetime import datetime\n",
    "curTime = datetime.now()\n",
    "print(curTime)"
   ]
  },
  {
   "cell_type": "code",
   "execution_count": 18,
   "id": "9c813738",
   "metadata": {},
   "outputs": [
    {
     "name": "stdout",
     "output_type": "stream",
     "text": [
      "30\n"
     ]
    }
   ],
   "source": [
    "import random \n",
    "print (random.randint(1, 100))"
   ]
  },
  {
   "cell_type": "code",
   "execution_count": 19,
   "id": "5796dc6c",
   "metadata": {},
   "outputs": [
    {
     "name": "stdout",
     "output_type": "stream",
     "text": [
      "6.0\n"
     ]
    }
   ],
   "source": [
    "import math\n",
    "print(math.sqrt(36))"
   ]
  },
  {
   "cell_type": "code",
   "execution_count": 20,
   "id": "baa94a57",
   "metadata": {},
   "outputs": [
    {
     "name": "stdout",
     "output_type": "stream",
     "text": [
      "12\n"
     ]
    }
   ],
   "source": [
    "import statistics as st\n",
    "numList = [1, 2, 3, 4, 50]\n",
    "print(st.mean(numList))"
   ]
  },
  {
   "cell_type": "code",
   "execution_count": 16,
   "id": "1e8c4958",
   "metadata": {},
   "outputs": [
    {
     "data": {
      "text/plain": [
       "'welcome BM'"
      ]
     },
     "execution_count": 16,
     "metadata": {},
     "output_type": "execute_result"
    }
   ],
   "source": [
    "def welcome(name):\n",
    "    return(\"welcome \" + name)\n",
    "\n",
    "welcome(\"BM\")"
   ]
  }
 ],
 "metadata": {
  "kernelspec": {
   "display_name": "Python 3",
   "language": "python",
   "name": "python3"
  },
  "language_info": {
   "codemirror_mode": {
    "name": "ipython",
    "version": 3
   },
   "file_extension": ".py",
   "mimetype": "text/x-python",
   "name": "python",
   "nbconvert_exporter": "python",
   "pygments_lexer": "ipython3",
   "version": "3.9.6"
  }
 },
 "nbformat": 4,
 "nbformat_minor": 5
}
